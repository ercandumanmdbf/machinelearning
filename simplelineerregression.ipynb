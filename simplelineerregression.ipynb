{
 "cells": [
  {
   "cell_type": "markdown",
   "id": "ee17f076-d3ae-4854-ac9a-bee6adddc27c",
   "metadata": {},
   "source": [
    "# Simple Lineer Regression for machine learning"
   ]
  },
  {
   "cell_type": "code",
   "execution_count": 15,
   "id": "9da9a3c7-a07d-496c-825f-3ad5df7c4b5c",
   "metadata": {},
   "outputs": [],
   "source": [
    "import pandas as pd\n",
    "import matplotlib.pyplot as plt"
   ]
  },
  {
   "cell_type": "code",
   "execution_count": 6,
   "id": "4b81547d-f8d3-4d99-8247-3ab19ca5e7a1",
   "metadata": {},
   "outputs": [],
   "source": [
    "deneyim_maas = pd.read_csv(\"deneyim-maas.csv\", sep=\";\")"
   ]
  },
  {
   "cell_type": "code",
   "execution_count": 7,
   "id": "47c1f642-3197-4e7a-a0dd-e4c8d9013d1c",
   "metadata": {},
   "outputs": [
    {
     "data": {
      "text/html": [
       "<div>\n",
       "<style scoped>\n",
       "    .dataframe tbody tr th:only-of-type {\n",
       "        vertical-align: middle;\n",
       "    }\n",
       "\n",
       "    .dataframe tbody tr th {\n",
       "        vertical-align: top;\n",
       "    }\n",
       "\n",
       "    .dataframe thead th {\n",
       "        text-align: right;\n",
       "    }\n",
       "</style>\n",
       "<table border=\"1\" class=\"dataframe\">\n",
       "  <thead>\n",
       "    <tr style=\"text-align: right;\">\n",
       "      <th></th>\n",
       "      <th>deneyim</th>\n",
       "      <th>maas</th>\n",
       "    </tr>\n",
       "  </thead>\n",
       "  <tbody>\n",
       "    <tr>\n",
       "      <th>0</th>\n",
       "      <td>0</td>\n",
       "      <td>3000</td>\n",
       "    </tr>\n",
       "    <tr>\n",
       "      <th>1</th>\n",
       "      <td>10</td>\n",
       "      <td>15000</td>\n",
       "    </tr>\n",
       "    <tr>\n",
       "      <th>2</th>\n",
       "      <td>3</td>\n",
       "      <td>5000</td>\n",
       "    </tr>\n",
       "    <tr>\n",
       "      <th>3</th>\n",
       "      <td>5</td>\n",
       "      <td>7000</td>\n",
       "    </tr>\n",
       "    <tr>\n",
       "      <th>4</th>\n",
       "      <td>7</td>\n",
       "      <td>11000</td>\n",
       "    </tr>\n",
       "    <tr>\n",
       "      <th>5</th>\n",
       "      <td>12</td>\n",
       "      <td>18000</td>\n",
       "    </tr>\n",
       "    <tr>\n",
       "      <th>6</th>\n",
       "      <td>1</td>\n",
       "      <td>4000</td>\n",
       "    </tr>\n",
       "    <tr>\n",
       "      <th>7</th>\n",
       "      <td>1</td>\n",
       "      <td>3500</td>\n",
       "    </tr>\n",
       "    <tr>\n",
       "      <th>8</th>\n",
       "      <td>4</td>\n",
       "      <td>6000</td>\n",
       "    </tr>\n",
       "    <tr>\n",
       "      <th>9</th>\n",
       "      <td>4</td>\n",
       "      <td>6000</td>\n",
       "    </tr>\n",
       "    <tr>\n",
       "      <th>10</th>\n",
       "      <td>2</td>\n",
       "      <td>4500</td>\n",
       "    </tr>\n",
       "    <tr>\n",
       "      <th>11</th>\n",
       "      <td>6</td>\n",
       "      <td>9000</td>\n",
       "    </tr>\n",
       "    <tr>\n",
       "      <th>12</th>\n",
       "      <td>11</td>\n",
       "      <td>17500</td>\n",
       "    </tr>\n",
       "    <tr>\n",
       "      <th>13</th>\n",
       "      <td>15</td>\n",
       "      <td>20000</td>\n",
       "    </tr>\n",
       "    <tr>\n",
       "      <th>14</th>\n",
       "      <td>13</td>\n",
       "      <td>19000</td>\n",
       "    </tr>\n",
       "    <tr>\n",
       "      <th>15</th>\n",
       "      <td>14</td>\n",
       "      <td>19000</td>\n",
       "    </tr>\n",
       "    <tr>\n",
       "      <th>16</th>\n",
       "      <td>18</td>\n",
       "      <td>21000</td>\n",
       "    </tr>\n",
       "    <tr>\n",
       "      <th>17</th>\n",
       "      <td>5</td>\n",
       "      <td>7500</td>\n",
       "    </tr>\n",
       "    <tr>\n",
       "      <th>18</th>\n",
       "      <td>8</td>\n",
       "      <td>13000</td>\n",
       "    </tr>\n",
       "    <tr>\n",
       "      <th>19</th>\n",
       "      <td>9</td>\n",
       "      <td>13500</td>\n",
       "    </tr>\n",
       "    <tr>\n",
       "      <th>20</th>\n",
       "      <td>13</td>\n",
       "      <td>19000</td>\n",
       "    </tr>\n",
       "  </tbody>\n",
       "</table>\n",
       "</div>"
      ],
      "text/plain": [
       "    deneyim   maas\n",
       "0         0   3000\n",
       "1        10  15000\n",
       "2         3   5000\n",
       "3         5   7000\n",
       "4         7  11000\n",
       "5        12  18000\n",
       "6         1   4000\n",
       "7         1   3500\n",
       "8         4   6000\n",
       "9         4   6000\n",
       "10        2   4500\n",
       "11        6   9000\n",
       "12       11  17500\n",
       "13       15  20000\n",
       "14       13  19000\n",
       "15       14  19000\n",
       "16       18  21000\n",
       "17        5   7500\n",
       "18        8  13000\n",
       "19        9  13500\n",
       "20       13  19000"
      ]
     },
     "execution_count": 7,
     "metadata": {},
     "output_type": "execute_result"
    }
   ],
   "source": [
    "deneyim_maas"
   ]
  },
  {
   "cell_type": "code",
   "execution_count": 20,
   "id": "8d7a3709-858d-4084-b922-dc25754a749a",
   "metadata": {},
   "outputs": [
    {
     "data": {
      "text/plain": [
       "Text(0.5, 1.0, 'Deneyim Maas Grafiği')"
      ]
     },
     "execution_count": 20,
     "metadata": {},
     "output_type": "execute_result"
    },
    {
     "data": {
      "image/png": "[encoded data removed]",
      "text/plain": [
       "<Figure size 640x480 with 1 Axes>"
      ]
     },
     "metadata": {},
     "output_type": "display_data"
    }
   ],
   "source": [
    "plt.scatter(deneyim_maas.deneyim,deneyim_maas.maas)\n",
    "plt.xlabel(\"Deneyim\")\n",
    "plt.ylabel(\"Maas\")\n",
    "plt.title(\"Deneyim Maas Grafiği\")"
   ]
  },
  {
   "cell_type": "markdown",
   "id": "550edbec-9b1c-4a6b-b1f8-28b3fc77d523",
   "metadata": {},
   "source": [
    "### keep in mind a corner line which give me y=constant+coefficent*x"
   ]
  },
  {
   "cell_type": "markdown",
   "id": "8b9d8ec3-8f4b-4113-91d1-50924e994ec6",
   "metadata": {},
   "source": [
    "import libraries for simple lineer regression. (we start here to regression)(just numpy left)"
   ]
  },
  {
   "cell_type": "code",
   "execution_count": 22,
   "id": "91ef310f-be24-4a6d-bb7e-3d93c9a4093c",
   "metadata": {},
   "outputs": [],
   "source": [
    "import numpy as np"
   ]
  },
  {
   "cell_type": "markdown",
   "id": "98da47a0-c061-412d-8474-3adb4361698f",
   "metadata": {},
   "source": [
    "now seperate the data table which we use X and y"
   ]
  },
  {
   "cell_type": "code",
   "execution_count": 23,
   "id": "db32c389-d80c-49fa-b767-bd24811cbc34",
   "metadata": {},
   "outputs": [],
   "source": [
    "X=deneyim_maas.iloc[:,:-1]\n",
    "y=deneyim_maas.iloc[:,-1]"
   ]
  },
  {
   "cell_type": "markdown",
   "id": "d92be3c4-a3b9-4e77-a3a5-905937be5061",
   "metadata": {},
   "source": [
    "test the seperation"
   ]
  },
  {
   "cell_type": "code",
   "execution_count": 24,
   "id": "1fccbb61-da32-4784-ba7d-cd2c2ed62388",
   "metadata": {},
   "outputs": [
    {
     "data": {
      "text/html": [
       "<div>\n",
       "<style scoped>\n",
       "    .dataframe tbody tr th:only-of-type {\n",
       "        vertical-align: middle;\n",
       "    }\n",
       "\n",
       "    .dataframe tbody tr th {\n",
       "        vertical-align: top;\n",
       "    }\n",
       "\n",
       "    .dataframe thead th {\n",
       "        text-align: right;\n",
       "    }\n",
       "</style>\n",
       "<table border=\"1\" class=\"dataframe\">\n",
       "  <thead>\n",
       "    <tr style=\"text-align: right;\">\n",
       "      <th></th>\n",
       "      <th>deneyim</th>\n",
       "    </tr>\n",
       "  </thead>\n",
       "  <tbody>\n",
       "    <tr>\n",
       "      <th>0</th>\n",
       "      <td>0</td>\n",
       "    </tr>\n",
       "    <tr>\n",
       "      <th>1</th>\n",
       "      <td>10</td>\n",
       "    </tr>\n",
       "    <tr>\n",
       "      <th>2</th>\n",
       "      <td>3</td>\n",
       "    </tr>\n",
       "    <tr>\n",
       "      <th>3</th>\n",
       "      <td>5</td>\n",
       "    </tr>\n",
       "    <tr>\n",
       "      <th>4</th>\n",
       "      <td>7</td>\n",
       "    </tr>\n",
       "    <tr>\n",
       "      <th>5</th>\n",
       "      <td>12</td>\n",
       "    </tr>\n",
       "    <tr>\n",
       "      <th>6</th>\n",
       "      <td>1</td>\n",
       "    </tr>\n",
       "    <tr>\n",
       "      <th>7</th>\n",
       "      <td>1</td>\n",
       "    </tr>\n",
       "    <tr>\n",
       "      <th>8</th>\n",
       "      <td>4</td>\n",
       "    </tr>\n",
       "    <tr>\n",
       "      <th>9</th>\n",
       "      <td>4</td>\n",
       "    </tr>\n",
       "    <tr>\n",
       "      <th>10</th>\n",
       "      <td>2</td>\n",
       "    </tr>\n",
       "    <tr>\n",
       "      <th>11</th>\n",
       "      <td>6</td>\n",
       "    </tr>\n",
       "    <tr>\n",
       "      <th>12</th>\n",
       "      <td>11</td>\n",
       "    </tr>\n",
       "    <tr>\n",
       "      <th>13</th>\n",
       "      <td>15</td>\n",
       "    </tr>\n",
       "    <tr>\n",
       "      <th>14</th>\n",
       "      <td>13</td>\n",
       "    </tr>\n",
       "    <tr>\n",
       "      <th>15</th>\n",
       "      <td>14</td>\n",
       "    </tr>\n",
       "    <tr>\n",
       "      <th>16</th>\n",
       "      <td>18</td>\n",
       "    </tr>\n",
       "    <tr>\n",
       "      <th>17</th>\n",
       "      <td>5</td>\n",
       "    </tr>\n",
       "    <tr>\n",
       "      <th>18</th>\n",
       "      <td>8</td>\n",
       "    </tr>\n",
       "    <tr>\n",
       "      <th>19</th>\n",
       "      <td>9</td>\n",
       "    </tr>\n",
       "    <tr>\n",
       "      <th>20</th>\n",
       "      <td>13</td>\n",
       "    </tr>\n",
       "  </tbody>\n",
       "</table>\n",
       "</div>"
      ],
      "text/plain": [
       "    deneyim\n",
       "0         0\n",
       "1        10\n",
       "2         3\n",
       "3         5\n",
       "4         7\n",
       "5        12\n",
       "6         1\n",
       "7         1\n",
       "8         4\n",
       "9         4\n",
       "10        2\n",
       "11        6\n",
       "12       11\n",
       "13       15\n",
       "14       13\n",
       "15       14\n",
       "16       18\n",
       "17        5\n",
       "18        8\n",
       "19        9\n",
       "20       13"
      ]
     },
     "execution_count": 24,
     "metadata": {},
     "output_type": "execute_result"
    }
   ],
   "source": [
    "X"
   ]
  },
  {
   "cell_type": "code",
   "execution_count": 25,
   "id": "c6b5dbe8-2600-42af-aefc-2cccb01d590a",
   "metadata": {},
   "outputs": [
    {
     "data": {
      "text/plain": [
       "0      3000\n",
       "1     15000\n",
       "2      5000\n",
       "3      7000\n",
       "4     11000\n",
       "5     18000\n",
       "6      4000\n",
       "7      3500\n",
       "8      6000\n",
       "9      6000\n",
       "10     4500\n",
       "11     9000\n",
       "12    17500\n",
       "13    20000\n",
       "14    19000\n",
       "15    19000\n",
       "16    21000\n",
       "17     7500\n",
       "18    13000\n",
       "19    13500\n",
       "20    19000\n",
       "Name: maas, dtype: int64"
      ]
     },
     "execution_count": 25,
     "metadata": {},
     "output_type": "execute_result"
    }
   ],
   "source": [
    "y"
   ]
  },
  {
   "cell_type": "markdown",
   "id": "963e3024-8c20-4575-b94b-926bb647e3e3",
   "metadata": {},
   "source": [
    "we have to change first one to array"
   ]
  },
  {
   "cell_type": "code",
   "execution_count": 26,
   "id": "8e9465cb-0b53-4e54-ac05-8e604cc3b628",
   "metadata": {},
   "outputs": [],
   "source": [
    "X=X.values\n",
    "y=y.values"
   ]
  },
  {
   "cell_type": "code",
   "execution_count": 27,
   "id": "f52985cb-805b-4a0f-aff5-d1e4e2a90158",
   "metadata": {},
   "outputs": [
    {
     "data": {
      "text/plain": [
       "array([[ 0],\n",
       "       [10],\n",
       "       [ 3],\n",
       "       [ 5],\n",
       "       [ 7],\n",
       "       [12],\n",
       "       [ 1],\n",
       "       [ 1],\n",
       "       [ 4],\n",
       "       [ 4],\n",
       "       [ 2],\n",
       "       [ 6],\n",
       "       [11],\n",
       "       [15],\n",
       "       [13],\n",
       "       [14],\n",
       "       [18],\n",
       "       [ 5],\n",
       "       [ 8],\n",
       "       [ 9],\n",
       "       [13]], dtype=int64)"
      ]
     },
     "execution_count": 27,
     "metadata": {},
     "output_type": "execute_result"
    }
   ],
   "source": [
    "X"
   ]
  },
  {
   "cell_type": "code",
   "execution_count": 28,
   "id": "6d562460-cea4-4a1b-adf9-a8eb9359b017",
   "metadata": {},
   "outputs": [
    {
     "data": {
      "text/plain": [
       "array([ 3000, 15000,  5000,  7000, 11000, 18000,  4000,  3500,  6000,\n",
       "        6000,  4500,  9000, 17500, 20000, 19000, 19000, 21000,  7500,\n",
       "       13000, 13500, 19000], dtype=int64)"
      ]
     },
     "execution_count": 28,
     "metadata": {},
     "output_type": "execute_result"
    }
   ],
   "source": [
    "y"
   ]
  },
  {
   "cell_type": "markdown",
   "id": "bc25d4bf-8c18-42b7-b08d-75b33a0782cc",
   "metadata": {},
   "source": [
    "now it seems pretty good for a machine to learn \n",
    "\n",
    "also there is no missing values to work on"
   ]
  },
  {
   "cell_type": "code",
   "execution_count": 30,
   "id": "43c9616e-79d8-4a90-8a87-0c47d93abeac",
   "metadata": {},
   "outputs": [],
   "source": [
    "from sklearn.model_selection import train_test_split"
   ]
  },
  {
   "cell_type": "code",
   "execution_count": 31,
   "id": "a71e6c36-700a-453a-92a1-058ab063778c",
   "metadata": {},
   "outputs": [],
   "source": [
    "X_train, X_test, y_train, y_test = train_test_split(X,y,test_size=0.2,random_state=1)"
   ]
  },
  {
   "cell_type": "code",
   "execution_count": 32,
   "id": "c2dffda6-032c-44db-a7ab-0e4917f07b06",
   "metadata": {},
   "outputs": [
    {
     "data": {
      "text/plain": [
       "array([[13],\n",
       "       [18],\n",
       "       [ 7],\n",
       "       [ 3],\n",
       "       [ 1],\n",
       "       [ 1],\n",
       "       [10],\n",
       "       [15],\n",
       "       [ 0],\n",
       "       [13],\n",
       "       [ 9],\n",
       "       [ 4],\n",
       "       [ 4],\n",
       "       [11],\n",
       "       [ 6],\n",
       "       [12]], dtype=int64)"
      ]
     },
     "execution_count": 32,
     "metadata": {},
     "output_type": "execute_result"
    }
   ],
   "source": [
    "X_train"
   ]
  },
  {
   "cell_type": "code",
   "execution_count": 33,
   "id": "a57336ed-af92-4af9-889a-23f3c99e496b",
   "metadata": {},
   "outputs": [
    {
     "data": {
      "text/plain": [
       "array([[14],\n",
       "       [ 2],\n",
       "       [ 5],\n",
       "       [ 8],\n",
       "       [ 5]], dtype=int64)"
      ]
     },
     "execution_count": 33,
     "metadata": {},
     "output_type": "execute_result"
    }
   ],
   "source": [
    "X_test"
   ]
  },
  {
   "cell_type": "code",
   "execution_count": 34,
   "id": "02d1666a-20ae-435d-9d1a-c55808f3b998",
   "metadata": {},
   "outputs": [
    {
     "data": {
      "text/plain": [
       "array([19000, 21000, 11000,  5000,  4000,  3500, 15000, 20000,  3000,\n",
       "       19000, 13500,  6000,  6000, 17500,  9000, 18000], dtype=int64)"
      ]
     },
     "execution_count": 34,
     "metadata": {},
     "output_type": "execute_result"
    }
   ],
   "source": [
    "y_train"
   ]
  },
  {
   "cell_type": "code",
   "execution_count": 35,
   "id": "09790246-dbfd-4581-a569-9ad933a4321f",
   "metadata": {},
   "outputs": [
    {
     "data": {
      "text/plain": [
       "array([19000,  4500,  7000, 13000,  7500], dtype=int64)"
      ]
     },
     "execution_count": 35,
     "metadata": {},
     "output_type": "execute_result"
    }
   ],
   "source": [
    "y_test"
   ]
  },
  {
   "cell_type": "code",
   "execution_count": 36,
   "id": "306c1ad0-bbf6-4d51-878b-25c81a3c829d",
   "metadata": {},
   "outputs": [],
   "source": [
    "from sklearn.linear_model import LinearRegression"
   ]
  },
  {
   "cell_type": "code",
   "execution_count": 37,
   "id": "8d33f9b2-5cbb-4cd3-910e-3bec0c17d147",
   "metadata": {},
   "outputs": [],
   "source": [
    "lr= LinearRegression()"
   ]
  },
  {
   "cell_type": "markdown",
   "id": "b69cb04d-0780-475c-adec-91494c12b8ce",
   "metadata": {},
   "source": [
    "make the test  values to learn with fit functionn on given data"
   ]
  },
  {
   "cell_type": "code",
   "execution_count": 38,
   "id": "42ddf3d6-fae6-4269-833c-125f0ed06ae3",
   "metadata": {},
   "outputs": [
    {
     "data": {
      "text/html": [
       "<style>#sk-container-id-1 {color: black;background-color: white;}#sk-container-id-1 pre{padding: 0;}#sk-container-id-1 div.sk-toggleable {background-color: white;}#sk-container-id-1 label.sk-toggleable__label {cursor: pointer;display: block;width: 100%;margin-bottom: 0;padding: 0.3em;box-sizing: border-box;text-align: center;}#sk-container-id-1 label.sk-toggleable__label-arrow:before {content: \"▸\";float: left;margin-right: 0.25em;color: #696969;}#sk-container-id-1 label.sk-toggleable__label-arrow:hover:before {color: black;}#sk-container-id-1 div.sk-estimator:hover label.sk-toggleable__label-arrow:before {color: black;}#sk-container-id-1 div.sk-toggleable__content {max-height: 0;max-width: 0;overflow: hidden;text-align: left;background-color: #f0f8ff;}#sk-container-id-1 div.sk-toggleable__content pre {margin: 0.2em;color: black;border-radius: 0.25em;background-color: #f0f8ff;}#sk-container-id-1 input.sk-toggleable__control:checked~div.sk-toggleable__content {max-height: 200px;max-width: 100%;overflow: auto;}#sk-container-id-1 input.sk-toggleable__control:checked~label.sk-toggleable__label-arrow:before {content: \"▾\";}#sk-container-id-1 div.sk-estimator input.sk-toggleable__control:checked~label.sk-toggleable__label {background-color: #d4ebff;}#sk-container-id-1 div.sk-label input.sk-toggleable__control:checked~label.sk-toggleable__label {background-color: #d4ebff;}#sk-container-id-1 input.sk-hidden--visually {border: 0;clip: rect(1px 1px 1px 1px);clip: rect(1px, 1px, 1px, 1px);height: 1px;margin: -1px;overflow: hidden;padding: 0;position: absolute;width: 1px;}#sk-container-id-1 div.sk-estimator {font-family: monospace;background-color: #f0f8ff;border: 1px dotted black;border-radius: 0.25em;box-sizing: border-box;margin-bottom: 0.5em;}#sk-container-id-1 div.sk-estimator:hover {background-color: #d4ebff;}#sk-container-id-1 div.sk-parallel-item::after {content: \"\";width: 100%;border-bottom: 1px solid gray;flex-grow: 1;}#sk-container-id-1 div.sk-label:hover label.sk-toggleable__label {background-color: #d4ebff;}#sk-container-id-1 div.sk-serial::before {content: \"\";position: absolute;border-left: 1px solid gray;box-sizing: border-box;top: 0;bottom: 0;left: 50%;z-index: 0;}#sk-container-id-1 div.sk-serial {display: flex;flex-direction: column;align-items: center;background-color: white;padding-right: 0.2em;padding-left: 0.2em;position: relative;}#sk-container-id-1 div.sk-item {position: relative;z-index: 1;}#sk-container-id-1 div.sk-parallel {display: flex;align-items: stretch;justify-content: center;background-color: white;position: relative;}#sk-container-id-1 div.sk-item::before, #sk-container-id-1 div.sk-parallel-item::before {content: \"\";position: absolute;border-left: 1px solid gray;box-sizing: border-box;top: 0;bottom: 0;left: 50%;z-index: -1;}#sk-container-id-1 div.sk-parallel-item {display: flex;flex-direction: column;z-index: 1;position: relative;background-color: white;}#sk-container-id-1 div.sk-parallel-item:first-child::after {align-self: flex-end;width: 50%;}#sk-container-id-1 div.sk-parallel-item:last-child::after {align-self: flex-start;width: 50%;}#sk-container-id-1 div.sk-parallel-item:only-child::after {width: 0;}#sk-container-id-1 div.sk-dashed-wrapped {border: 1px dashed gray;margin: 0 0.4em 0.5em 0.4em;box-sizing: border-box;padding-bottom: 0.4em;background-color: white;}#sk-container-id-1 div.sk-label label {font-family: monospace;font-weight: bold;display: inline-block;line-height: 1.2em;}#sk-container-id-1 div.sk-label-container {text-align: center;}#sk-container-id-1 div.sk-container {/* jupyter's `normalize.less` sets `[hidden] { display: none; }` but bootstrap.min.css set `[hidden] { display: none !important; }` so we also need the `!important` here to be able to override the default hidden behavior on the sphinx rendered scikit-learn.org. See: https://github.com/scikit-learn/scikit-learn/issues/21755 */display: inline-block !important;position: relative;}#sk-container-id-1 div.sk-text-repr-fallback {display: none;}</style><div id=\"sk-container-id-1\" class=\"sk-top-container\"><div class=\"sk-text-repr-fallback\"><pre>LinearRegression()</pre><b>In a Jupyter environment, please rerun this cell to show the HTML representation or trust the notebook. <br />On GitHub, the HTML representation is unable to render, please try loading this page with nbviewer.org.</b></div><div class=\"sk-container\" hidden><div class=\"sk-item\"><div class=\"sk-estimator sk-toggleable\"><input class=\"sk-toggleable__control sk-hidden--visually\" id=\"sk-estimator-id-1\" type=\"checkbox\" checked><label for=\"sk-estimator-id-1\" class=\"sk-toggleable__label sk-toggleable__label-arrow\">LinearRegression</label><div class=\"sk-toggleable__content\"><pre>LinearRegression()</pre></div></div></div></div></div>"
      ],
      "text/plain": [
       "LinearRegression()"
      ]
     },
     "execution_count": 38,
     "metadata": {},
     "output_type": "execute_result"
    }
   ],
   "source": [
    "lr.fit(X_train,y_train)"
   ]
  },
  {
   "cell_type": "markdown",
   "id": "9cded81c-8b41-485c-ace6-d42f5f1b646b",
   "metadata": {},
   "source": [
    "now we haed to test sets to control the learnings"
   ]
  },
  {
   "cell_type": "code",
   "execution_count": 39,
   "id": "5ed9d2a9-74fa-4a01-b673-88be048ecfae",
   "metadata": {},
   "outputs": [],
   "source": [
    "y_predict = lr.predict(X_test)"
   ]
  },
  {
   "cell_type": "code",
   "execution_count": 40,
   "id": "741219b0-3580-4b9b-ac26-ce0226721b6c",
   "metadata": {},
   "outputs": [
    {
     "data": {
      "text/plain": [
       "array([19152.89085139,  4809.0244239 ,  8394.99103077, 11980.95763764,\n",
       "        8394.99103077])"
      ]
     },
     "execution_count": 40,
     "metadata": {},
     "output_type": "execute_result"
    }
   ],
   "source": [
    "y_predict"
   ]
  },
  {
   "cell_type": "code",
   "execution_count": 41,
   "id": "525ad034-f3cc-4415-9407-ea92cf63146a",
   "metadata": {},
   "outputs": [
    {
     "data": {
      "text/plain": [
       "array([19000,  4500,  7000, 13000,  7500], dtype=int64)"
      ]
     },
     "execution_count": 41,
     "metadata": {},
     "output_type": "execute_result"
    }
   ],
   "source": [
    "y_test"
   ]
  },
  {
   "cell_type": "markdown",
   "id": "d49269af-cfaa-4244-accd-a62e987bfed1",
   "metadata": {},
   "source": [
    "the test values changed after learning on y_predict parameter"
   ]
  },
  {
   "cell_type": "code",
   "execution_count": 44,
   "id": "f2c52241-93b4-4e06-b74b-c687b327641c",
   "metadata": {},
   "outputs": [
    {
     "data": {
      "text/plain": [
       "Text(0, 0.5, 'Maas')"
      ]
     },
     "execution_count": 44,
     "metadata": {},
     "output_type": "execute_result"
    },
    {
     "data": {
      "image/png": "[encoded data removed]",
      "text/plain": [
       "<Figure size 640x480 with 1 Axes>"
      ]
     },
     "metadata": {},
     "output_type": "display_data"
    }
   ],
   "source": [
    "plt.scatter(X_train, y_train, color=\"red\")\n",
    "plt.plot(X_train,lr.predict(X_train), color=\"blue\")\n",
    "plt.title(\"Deneyim Maas Grafigi\")\n",
    "plt.xlabel(\"Deneyim\")\n",
    "plt.ylabel(\"Maas\")"
   ]
  },
  {
   "cell_type": "markdown",
   "id": "40cddd8a-d28a-470d-9f16-76c80db814a9",
   "metadata": {},
   "source": [
    "the blue line make prediction with linear regression on work year and salary "
   ]
  },
  {
   "cell_type": "code",
   "execution_count": 45,
   "id": "5a6b005b-edf0-4940-b196-74f8e4474ad3",
   "metadata": {},
   "outputs": [
    {
     "data": {
      "text/plain": [
       "Text(0, 0.5, 'Maas')"
      ]
     },
     "execution_count": 45,
     "metadata": {},
     "output_type": "execute_result"
    },
    {
     "data": {
      "image/png": "[encoded data removed]",
      "text/plain": [
       "<Figure size 640x480 with 1 Axes>"
      ]
     },
     "metadata": {},
     "output_type": "display_data"
    }
   ],
   "source": [
    "plt.scatter(X_test, y_test, color=\"green\")\n",
    "plt.plot(X_train,lr.predict(X_train), color=\"blue\")\n",
    "plt.title(\"Deneyim Maas Grafigi\")\n",
    "plt.xlabel(\"Deneyim\")\n",
    "plt.ylabel(\"Maas\")"
   ]
  },
  {
   "cell_type": "code",
   "execution_count": null,
   "id": "0ddf285d-7a9e-405e-99e6-23aac0dcb57b",
   "metadata": {},
   "outputs": [],
   "source": []
  }
 ],
 "metadata": {
  "kernelspec": {
   "display_name": "Python 3 (ipykernel)",
   "language": "python",
   "name": "python3"
  },
  "language_info": {
   "codemirror_mode": {
    "name": "ipython",
    "version": 3
   },
   "file_extension": ".py",
   "mimetype": "text/x-python",
   "name": "python",
   "nbconvert_exporter": "python",
   "pygments_lexer": "ipython3",
   "version": "3.10.9"
  }
 },
 "nbformat": 4,
 "nbformat_minor": 5
}
