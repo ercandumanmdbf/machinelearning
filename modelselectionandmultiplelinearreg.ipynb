{
 "cells": [
  {
   "cell_type": "markdown",
   "id": "72c4bab1-7769-4fc0-81bd-2628c8763785",
   "metadata": {},
   "source": [
    "## model selection"
   ]
  },
  {
   "cell_type": "markdown",
   "id": "a2bbdca6-c3b5-4743-9146-92fda202d468",
   "metadata": {},
   "source": [
    "## MSE\n",
    "\n",
    "in this part ve look at MSE = mean squared error\n",
    "\n",
    "if we got MSE closer to 0 we work on true modeling\n",
    "\n",
    "(error)residual = y - y_predict\n",
    "\n",
    "we try to make all residual values positive and take their mean so we have to squared all residual\n",
    "\n",
    "sum(residual^2)/count(X) = MSE   (we want this value close to 0)\n",
    "PYTHON make this MSE calculation in models automatically"
   ]
  },
  {
   "cell_type": "markdown",
   "id": "c2472c9d-b3d7-494c-948a-8ed9b974c8ec",
   "metadata": {},
   "source": [
    "## Total Sum of Squares\n",
    "\n",
    "we use this to find a value which is equally far from all y values on model\n",
    "\n",
    "sum(y-y_predict)^2\n",
    "\n",
    "we learn this for find R^2 formula\n",
    "\n",
    "R^2=1-MSE/TSS  (we want R^2 value closer to 1 for correct working regression model)"
   ]
  },
  {
   "cell_type": "markdown",
   "id": "fe59965c-a7c4-4db0-958d-116c4e4b9764",
   "metadata": {},
   "source": [
    "## Adjusted R^2 \n",
    "\n",
    "if we have more than one independent variable our TSS score will going higher. So we have to filter the variables we need most.\n",
    "\n",
    "1-(1-R^2)((n-1)/(n-p-1))\n",
    "\n",
    "n=sample size\n",
    "p=variable size"
   ]
  },
  {
   "cell_type": "markdown",
   "id": "8ab30cd5-0fae-4270-9076-2a31022cf8eb",
   "metadata": {},
   "source": [
    "# making 4 models"
   ]
  },
  {
   "cell_type": "code",
   "execution_count": 1,
   "id": "58e06116-2741-4eb1-acfd-17ce4adc3b59",
   "metadata": {},
   "outputs": [],
   "source": [
    "import numpy as np\n",
    "import pandas as pd\n",
    "import matplotlib.pyplot as plt"
   ]
  },
  {
   "cell_type": "code",
   "execution_count": 4,
   "id": "74841dde-3302-404d-9a4c-498b43b23898",
   "metadata": {},
   "outputs": [],
   "source": [
    "data = pd.read_csv(\"Dataselection.csv\")"
   ]
  },
  {
   "cell_type": "code",
   "execution_count": 5,
   "id": "84e71e9b-1eef-4218-80ba-94f9b7353ee3",
   "metadata": {},
   "outputs": [],
   "source": [
    "X=data.iloc[:,:-1].values\n",
    "y=data.iloc[:,-1].values"
   ]
  },
  {
   "cell_type": "code",
   "execution_count": 6,
   "id": "e45bb217-ddae-4ea1-a74c-647c8140b234",
   "metadata": {},
   "outputs": [
    {
     "data": {
      "text/html": [
       "<div>\n",
       "<style scoped>\n",
       "    .dataframe tbody tr th:only-of-type {\n",
       "        vertical-align: middle;\n",
       "    }\n",
       "\n",
       "    .dataframe tbody tr th {\n",
       "        vertical-align: top;\n",
       "    }\n",
       "\n",
       "    .dataframe thead th {\n",
       "        text-align: right;\n",
       "    }\n",
       "</style>\n",
       "<table border=\"1\" class=\"dataframe\">\n",
       "  <thead>\n",
       "    <tr style=\"text-align: right;\">\n",
       "      <th></th>\n",
       "      <th>MotorSıcaklığı</th>\n",
       "      <th>EgzozVakumu</th>\n",
       "      <th>OrtamBasıncı</th>\n",
       "      <th>BağılNem</th>\n",
       "      <th>Enerji</th>\n",
       "    </tr>\n",
       "  </thead>\n",
       "  <tbody>\n",
       "    <tr>\n",
       "      <th>0</th>\n",
       "      <td>14.96</td>\n",
       "      <td>41.76</td>\n",
       "      <td>1024.07</td>\n",
       "      <td>73.17</td>\n",
       "      <td>463.26</td>\n",
       "    </tr>\n",
       "    <tr>\n",
       "      <th>1</th>\n",
       "      <td>25.18</td>\n",
       "      <td>62.96</td>\n",
       "      <td>1020.04</td>\n",
       "      <td>59.08</td>\n",
       "      <td>444.37</td>\n",
       "    </tr>\n",
       "    <tr>\n",
       "      <th>2</th>\n",
       "      <td>5.11</td>\n",
       "      <td>39.40</td>\n",
       "      <td>1012.16</td>\n",
       "      <td>92.14</td>\n",
       "      <td>488.56</td>\n",
       "    </tr>\n",
       "    <tr>\n",
       "      <th>3</th>\n",
       "      <td>20.86</td>\n",
       "      <td>57.32</td>\n",
       "      <td>1010.24</td>\n",
       "      <td>76.64</td>\n",
       "      <td>446.48</td>\n",
       "    </tr>\n",
       "    <tr>\n",
       "      <th>4</th>\n",
       "      <td>10.82</td>\n",
       "      <td>37.50</td>\n",
       "      <td>1009.23</td>\n",
       "      <td>96.62</td>\n",
       "      <td>473.90</td>\n",
       "    </tr>\n",
       "    <tr>\n",
       "      <th>...</th>\n",
       "      <td>...</td>\n",
       "      <td>...</td>\n",
       "      <td>...</td>\n",
       "      <td>...</td>\n",
       "      <td>...</td>\n",
       "    </tr>\n",
       "    <tr>\n",
       "      <th>9563</th>\n",
       "      <td>16.65</td>\n",
       "      <td>49.69</td>\n",
       "      <td>1014.01</td>\n",
       "      <td>91.00</td>\n",
       "      <td>460.03</td>\n",
       "    </tr>\n",
       "    <tr>\n",
       "      <th>9564</th>\n",
       "      <td>13.19</td>\n",
       "      <td>39.18</td>\n",
       "      <td>1023.67</td>\n",
       "      <td>66.78</td>\n",
       "      <td>469.62</td>\n",
       "    </tr>\n",
       "    <tr>\n",
       "      <th>9565</th>\n",
       "      <td>31.32</td>\n",
       "      <td>74.33</td>\n",
       "      <td>1012.92</td>\n",
       "      <td>36.48</td>\n",
       "      <td>429.57</td>\n",
       "    </tr>\n",
       "    <tr>\n",
       "      <th>9566</th>\n",
       "      <td>24.48</td>\n",
       "      <td>69.45</td>\n",
       "      <td>1013.86</td>\n",
       "      <td>62.39</td>\n",
       "      <td>435.74</td>\n",
       "    </tr>\n",
       "    <tr>\n",
       "      <th>9567</th>\n",
       "      <td>21.60</td>\n",
       "      <td>62.52</td>\n",
       "      <td>1017.23</td>\n",
       "      <td>67.87</td>\n",
       "      <td>453.28</td>\n",
       "    </tr>\n",
       "  </tbody>\n",
       "</table>\n",
       "<p>9568 rows × 5 columns</p>\n",
       "</div>"
      ],
      "text/plain": [
       "      MotorSıcaklığı  EgzozVakumu  OrtamBasıncı  BağılNem  Enerji\n",
       "0              14.96        41.76       1024.07     73.17  463.26\n",
       "1              25.18        62.96       1020.04     59.08  444.37\n",
       "2               5.11        39.40       1012.16     92.14  488.56\n",
       "3              20.86        57.32       1010.24     76.64  446.48\n",
       "4              10.82        37.50       1009.23     96.62  473.90\n",
       "...              ...          ...           ...       ...     ...\n",
       "9563           16.65        49.69       1014.01     91.00  460.03\n",
       "9564           13.19        39.18       1023.67     66.78  469.62\n",
       "9565           31.32        74.33       1012.92     36.48  429.57\n",
       "9566           24.48        69.45       1013.86     62.39  435.74\n",
       "9567           21.60        62.52       1017.23     67.87  453.28\n",
       "\n",
       "[9568 rows x 5 columns]"
      ]
     },
     "execution_count": 6,
     "metadata": {},
     "output_type": "execute_result"
    }
   ],
   "source": [
    "data"
   ]
  },
  {
   "cell_type": "markdown",
   "id": "3ec56f42-64f8-4ee0-81ce-29ea4850eb67",
   "metadata": {},
   "source": [
    "## multiple linear regression model"
   ]
  },
  {
   "cell_type": "code",
   "execution_count": 7,
   "id": "76df7c21-595d-4cab-9dee-41d66cdea723",
   "metadata": {},
   "outputs": [],
   "source": [
    "from sklearn.model_selection import train_test_split"
   ]
  },
  {
   "cell_type": "code",
   "execution_count": 8,
   "id": "aa8398b3-cbdc-4221-8da8-21fcec5ac3ee",
   "metadata": {},
   "outputs": [],
   "source": [
    "X_train, X_test, y_train, y_test = train_test_split(X,y,test_size=0.2,random_state=1)"
   ]
  },
  {
   "cell_type": "code",
   "execution_count": 9,
   "id": "b6abff5d-fc77-4afd-b355-ecfd137f25a9",
   "metadata": {},
   "outputs": [],
   "source": [
    "### we split whole data %20 for test %80 for train machine decision"
   ]
  },
  {
   "cell_type": "code",
   "execution_count": 10,
   "id": "21dc5edf-4967-4697-83ff-9f53524b3755",
   "metadata": {},
   "outputs": [],
   "source": [
    "from sklearn.linear_model import LinearRegression"
   ]
  },
  {
   "cell_type": "code",
   "execution_count": 11,
   "id": "5f2ec115-b3fd-4691-a75c-bd12cb1f7cc3",
   "metadata": {},
   "outputs": [],
   "source": [
    "reglin=LinearRegression()"
   ]
  },
  {
   "cell_type": "code",
   "execution_count": 12,
   "id": "b7e71819-3b4d-434e-b478-9744a7753d93",
   "metadata": {},
   "outputs": [
    {
     "data": {
      "text/html": [
       "<style>#sk-container-id-1 {color: black;background-color: white;}#sk-container-id-1 pre{padding: 0;}#sk-container-id-1 div.sk-toggleable {background-color: white;}#sk-container-id-1 label.sk-toggleable__label {cursor: pointer;display: block;width: 100%;margin-bottom: 0;padding: 0.3em;box-sizing: border-box;text-align: center;}#sk-container-id-1 label.sk-toggleable__label-arrow:before {content: \"▸\";float: left;margin-right: 0.25em;color: #696969;}#sk-container-id-1 label.sk-toggleable__label-arrow:hover:before {color: black;}#sk-container-id-1 div.sk-estimator:hover label.sk-toggleable__label-arrow:before {color: black;}#sk-container-id-1 div.sk-toggleable__content {max-height: 0;max-width: 0;overflow: hidden;text-align: left;background-color: #f0f8ff;}#sk-container-id-1 div.sk-toggleable__content pre {margin: 0.2em;color: black;border-radius: 0.25em;background-color: #f0f8ff;}#sk-container-id-1 input.sk-toggleable__control:checked~div.sk-toggleable__content {max-height: 200px;max-width: 100%;overflow: auto;}#sk-container-id-1 input.sk-toggleable__control:checked~label.sk-toggleable__label-arrow:before {content: \"▾\";}#sk-container-id-1 div.sk-estimator input.sk-toggleable__control:checked~label.sk-toggleable__label {background-color: #d4ebff;}#sk-container-id-1 div.sk-label input.sk-toggleable__control:checked~label.sk-toggleable__label {background-color: #d4ebff;}#sk-container-id-1 input.sk-hidden--visually {border: 0;clip: rect(1px 1px 1px 1px);clip: rect(1px, 1px, 1px, 1px);height: 1px;margin: -1px;overflow: hidden;padding: 0;position: absolute;width: 1px;}#sk-container-id-1 div.sk-estimator {font-family: monospace;background-color: #f0f8ff;border: 1px dotted black;border-radius: 0.25em;box-sizing: border-box;margin-bottom: 0.5em;}#sk-container-id-1 div.sk-estimator:hover {background-color: #d4ebff;}#sk-container-id-1 div.sk-parallel-item::after {content: \"\";width: 100%;border-bottom: 1px solid gray;flex-grow: 1;}#sk-container-id-1 div.sk-label:hover label.sk-toggleable__label {background-color: #d4ebff;}#sk-container-id-1 div.sk-serial::before {content: \"\";position: absolute;border-left: 1px solid gray;box-sizing: border-box;top: 0;bottom: 0;left: 50%;z-index: 0;}#sk-container-id-1 div.sk-serial {display: flex;flex-direction: column;align-items: center;background-color: white;padding-right: 0.2em;padding-left: 0.2em;position: relative;}#sk-container-id-1 div.sk-item {position: relative;z-index: 1;}#sk-container-id-1 div.sk-parallel {display: flex;align-items: stretch;justify-content: center;background-color: white;position: relative;}#sk-container-id-1 div.sk-item::before, #sk-container-id-1 div.sk-parallel-item::before {content: \"\";position: absolute;border-left: 1px solid gray;box-sizing: border-box;top: 0;bottom: 0;left: 50%;z-index: -1;}#sk-container-id-1 div.sk-parallel-item {display: flex;flex-direction: column;z-index: 1;position: relative;background-color: white;}#sk-container-id-1 div.sk-parallel-item:first-child::after {align-self: flex-end;width: 50%;}#sk-container-id-1 div.sk-parallel-item:last-child::after {align-self: flex-start;width: 50%;}#sk-container-id-1 div.sk-parallel-item:only-child::after {width: 0;}#sk-container-id-1 div.sk-dashed-wrapped {border: 1px dashed gray;margin: 0 0.4em 0.5em 0.4em;box-sizing: border-box;padding-bottom: 0.4em;background-color: white;}#sk-container-id-1 div.sk-label label {font-family: monospace;font-weight: bold;display: inline-block;line-height: 1.2em;}#sk-container-id-1 div.sk-label-container {text-align: center;}#sk-container-id-1 div.sk-container {/* jupyter's `normalize.less` sets `[hidden] { display: none; }` but bootstrap.min.css set `[hidden] { display: none !important; }` so we also need the `!important` here to be able to override the default hidden behavior on the sphinx rendered scikit-learn.org. See: https://github.com/scikit-learn/scikit-learn/issues/21755 */display: inline-block !important;position: relative;}#sk-container-id-1 div.sk-text-repr-fallback {display: none;}</style><div id=\"sk-container-id-1\" class=\"sk-top-container\"><div class=\"sk-text-repr-fallback\"><pre>LinearRegression()</pre><b>In a Jupyter environment, please rerun this cell to show the HTML representation or trust the notebook. <br />On GitHub, the HTML representation is unable to render, please try loading this page with nbviewer.org.</b></div><div class=\"sk-container\" hidden><div class=\"sk-item\"><div class=\"sk-estimator sk-toggleable\"><input class=\"sk-toggleable__control sk-hidden--visually\" id=\"sk-estimator-id-1\" type=\"checkbox\" checked><label for=\"sk-estimator-id-1\" class=\"sk-toggleable__label sk-toggleable__label-arrow\">LinearRegression</label><div class=\"sk-toggleable__content\"><pre>LinearRegression()</pre></div></div></div></div></div>"
      ],
      "text/plain": [
       "LinearRegression()"
      ]
     },
     "execution_count": 12,
     "metadata": {},
     "output_type": "execute_result"
    }
   ],
   "source": [
    "reglin.fit(X_train,y_train)"
   ]
  },
  {
   "cell_type": "markdown",
   "id": "a1ae0a70-95cb-4f0d-86a6-43dc93bcd684",
   "metadata": {},
   "source": [
    "## prediction"
   ]
  },
  {
   "cell_type": "code",
   "execution_count": 33,
   "id": "54b31a09-0ee7-4985-8536-3a51e239c26d",
   "metadata": {},
   "outputs": [],
   "source": [
    "y_pred=reglin.predict(X_test)"
   ]
  },
  {
   "cell_type": "code",
   "execution_count": 34,
   "id": "9dd97ac3-afbb-44f9-945a-ef49ea25c2e7",
   "metadata": {},
   "outputs": [],
   "source": [
    "CompMultLinReg=np.concatenate((y_pred.reshape(len(y_pred),1),y_test.reshape(len(y_test),1)),1)"
   ]
  },
  {
   "cell_type": "code",
   "execution_count": 35,
   "id": "cd30c0e2-f8db-48a0-825b-90db1d8c053e",
   "metadata": {},
   "outputs": [
    {
     "data": {
      "text/plain": [
       "array([[457.25522108, 458.96      ],\n",
       "       [466.71927366, 463.29      ],\n",
       "       [440.36694911, 435.27      ],\n",
       "       ...,\n",
       "       [476.40502919, 476.22      ],\n",
       "       [424.61609708, 440.29      ],\n",
       "       [463.91141143, 467.92      ]])"
      ]
     },
     "execution_count": 35,
     "metadata": {},
     "output_type": "execute_result"
    }
   ],
   "source": [
    "CompMultLinReg"
   ]
  },
  {
   "cell_type": "markdown",
   "id": "34265486-6f09-4c3e-8def-efe191e93841",
   "metadata": {},
   "source": [
    "left column is prediction right column is real values"
   ]
  },
  {
   "cell_type": "markdown",
   "id": "5aa15a1d-5a1e-4818-92e7-1f8ad28c6abb",
   "metadata": {},
   "source": [
    "## R^2 computation for understand which model is working most efficient for this dataset"
   ]
  },
  {
   "cell_type": "code",
   "execution_count": 36,
   "id": "a191efed-c712-4fb3-a1cd-bc5db6b0111e",
   "metadata": {},
   "outputs": [],
   "source": [
    "from sklearn.metrics import r2_score"
   ]
  },
  {
   "cell_type": "code",
   "execution_count": 37,
   "id": "6f418291-59d0-4bab-b796-4bbb1a4d8177",
   "metadata": {},
   "outputs": [
    {
     "data": {
      "text/plain": [
       "0.9321860060402447"
      ]
     },
     "execution_count": 37,
     "metadata": {},
     "output_type": "execute_result"
    }
   ],
   "source": [
    "r2_score(y_test,y_pred)"
   ]
  },
  {
   "cell_type": "code",
   "execution_count": null,
   "id": "2d44a659-1f20-4cef-981b-dc3ca2069d53",
   "metadata": {},
   "outputs": [],
   "source": []
  }
 ],
 "metadata": {
  "kernelspec": {
   "display_name": "Python 3 (ipykernel)",
   "language": "python",
   "name": "python3"
  },
  "language_info": {
   "codemirror_mode": {
    "name": "ipython",
    "version": 3
   },
   "file_extension": ".py",
   "mimetype": "text/x-python",
   "name": "python",
   "nbconvert_exporter": "python",
   "pygments_lexer": "ipython3",
   "version": "3.10.9"
  }
 },
 "nbformat": 4,
 "nbformat_minor": 5
}
