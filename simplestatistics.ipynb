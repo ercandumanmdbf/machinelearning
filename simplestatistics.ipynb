{
 "cells": [
  {
   "cell_type": "markdown",
   "id": "71ab9270-cfcc-4045-82c1-88f0a407c8f3",
   "metadata": {},
   "source": [
    "# stdev and mean"
   ]
  },
  {
   "cell_type": "code",
   "execution_count": 1,
   "id": "e22de95e-b455-4a01-9e0e-a7d8c85c4ea4",
   "metadata": {},
   "outputs": [],
   "source": [
    "import statistics"
   ]
  },
  {
   "cell_type": "code",
   "execution_count": 2,
   "id": "05a01aaa-8381-4091-9cec-9b1c568c6847",
   "metadata": {},
   "outputs": [],
   "source": [
    "phys=[12,25,66,54,98,25,75,46,89,22,65,37]\n",
    "math=[75,43,53,86,95,24,100,15,81,41,52,43]"
   ]
  },
  {
   "cell_type": "code",
   "execution_count": 3,
   "id": "10087799-95d3-4361-8a37-cbe3d4f1b92e",
   "metadata": {},
   "outputs": [
    {
     "data": {
      "text/plain": [
       "51.166666666666664"
      ]
     },
     "execution_count": 3,
     "metadata": {},
     "output_type": "execute_result"
    }
   ],
   "source": [
    "statistics.mean(phys)"
   ]
  },
  {
   "cell_type": "code",
   "execution_count": 4,
   "id": "adbbb2bb-942d-4ce9-a6c4-5e308d198a1c",
   "metadata": {},
   "outputs": [
    {
     "data": {
      "text/plain": [
       "27.950714199147473"
      ]
     },
     "execution_count": 4,
     "metadata": {},
     "output_type": "execute_result"
    }
   ],
   "source": [
    "statistics.stdev(phys)"
   ]
  },
  {
   "cell_type": "code",
   "execution_count": 5,
   "id": "6e4bb787-5fd2-4200-ab7a-cebc73f3ce64",
   "metadata": {},
   "outputs": [
    {
     "data": {
      "text/plain": [
       "59"
      ]
     },
     "execution_count": 5,
     "metadata": {},
     "output_type": "execute_result"
    }
   ],
   "source": [
    "statistics.mean(math)"
   ]
  },
  {
   "cell_type": "code",
   "execution_count": 6,
   "id": "2aeb3286-5009-4056-a56e-f42512e2720c",
   "metadata": {},
   "outputs": [
    {
     "data": {
      "text/plain": [
       "27.84371970970702"
      ]
     },
     "execution_count": 6,
     "metadata": {},
     "output_type": "execute_result"
    }
   ],
   "source": [
    "statistics.stdev(math)"
   ]
  },
  {
   "cell_type": "code",
   "execution_count": null,
   "id": "164a004f-5867-43bd-8b93-47e267403edc",
   "metadata": {},
   "outputs": [],
   "source": []
  }
 ],
 "metadata": {
  "kernelspec": {
   "display_name": "Python 3 (ipykernel)",
   "language": "python",
   "name": "python3"
  },
  "language_info": {
   "codemirror_mode": {
    "name": "ipython",
    "version": 3
   },
   "file_extension": ".py",
   "mimetype": "text/x-python",
   "name": "python",
   "nbconvert_exporter": "python",
   "pygments_lexer": "ipython3",
   "version": "3.10.9"
  }
 },
 "nbformat": 4,
 "nbformat_minor": 5
}
